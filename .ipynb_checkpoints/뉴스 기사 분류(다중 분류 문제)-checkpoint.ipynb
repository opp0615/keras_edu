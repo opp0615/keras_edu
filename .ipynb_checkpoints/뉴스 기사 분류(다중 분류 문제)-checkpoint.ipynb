{
 "cells": [
  {
   "cell_type": "code",
   "execution_count": 1,
   "metadata": {},
   "outputs": [
    {
     "name": "stderr",
     "output_type": "stream",
     "text": [
      "Using TensorFlow backend.\n"
     ]
    }
   ],
   "source": [
    "from keras.datasets import reuters\n",
    "\n",
    "(train_data, train_labels), (test_data, test_labels) = reuters.load_data(num_words=10000)"
   ]
  },
  {
   "cell_type": "code",
   "execution_count": 2,
   "metadata": {},
   "outputs": [
    {
     "name": "stdout",
     "output_type": "stream",
     "text": [
      "8982\n",
      "2246\n",
      "[1, 4, 37, 38, 309, 213, 349, 1632, 48, 193, 229, 463, 28, 156, 635, 11, 82, 14, 156, 635, 11, 82, 54, 139, 16, 349, 105, 462, 311, 28, 296, 147, 11, 82, 14, 296, 147, 11, 54, 139, 342, 48, 193, 3234, 361, 122, 23, 1332, 28, 318, 942, 11, 82, 14, 318, 942, 11, 82, 54, 139, 122, 7, 105, 462, 23, 349, 28, 296, 767, 11, 82, 14, 296, 767, 11, 54, 139, 342, 229, 162, 7, 48, 193, 55, 408, 28, 258, 557, 11, 82, 14, 196, 557, 11, 82, 54, 139, 162, 7, 105, 462, 55, 349, 28, 191, 968, 11, 82, 14, 191, 785, 11, 54, 139, 17, 12]\n",
      "4\n"
     ]
    }
   ],
   "source": [
    "print(len(train_data))\n",
    "print(len(test_data))\n",
    "print(train_data[5]) #뉴스 기사의 단어를 인덱스로 매핑한 값들의 배열\n",
    "print(train_labels[5]) #토픽의 인덱스로 0~45의 값"
   ]
  },
  {
   "cell_type": "code",
   "execution_count": 3,
   "metadata": {},
   "outputs": [
    {
     "name": "stdout",
     "output_type": "stream",
     "text": [
      "? ? ? said as a result of its december acquisition of space co it expects earnings per share in 1987 of 1 15 to 1 30 dlrs per share up from 70 cts in 1986 the company said pretax net should rise to nine to 10 mln dlrs from six mln dlrs in 1986 and rental operation revenues to 19 to 22 mln dlrs from 12 5 mln dlrs it said cash flow per share this year should be 2 50 to three dlrs reuter 3\n"
     ]
    }
   ],
   "source": [
    "word_index = reuters.get_word_index()\n",
    "reverse_word_index = dict([(value, key) for (key,value) in word_index.items()])\n",
    "decoded_newswire = ' '.join([reverse_word_index.get(i - 3, '?') for i in train_data[0]])\n",
    "\n",
    "print(decoded_newswire)"
   ]
  },
  {
   "cell_type": "code",
   "execution_count": 4,
   "metadata": {},
   "outputs": [],
   "source": [
    "import numpy as np \n",
    "\n",
    "def vertorize_sequence(sequences, dimension=10000):\n",
    "    results = np.zeros((len(sequences), dimension))\n",
    "    for i, sequence in enumerate(sequences):\n",
    "        results[i, sequence] = 1.\n",
    "    return results\n",
    "\n",
    "def to_one_hot(labels, dimension=46):\n",
    "    results = np.zeros((len(labels),dimension))\n",
    "    for i, label in enumerate(labels):\n",
    "        results[i, label] = 1.\n",
    "    return results\n",
    "    \n",
    "x_train = vertorize_sequence(train_data)\n",
    "x_test = vertorize_sequence(test_data)\n",
    "\n",
    "one_hot_train_labels = to_one_hot(train_labels)\n",
    "one_hot_test_labels = to_one_hot(test_labels)\n",
    "\n",
    "#케라스 내장 함수를 사용해 one hot 인코딩\n",
    "from  keras.utils.np_utils import to_categorical\n",
    "one_hot_train_labels = to_categorical(train_labels)\n",
    "one_hot_test_labels = to_categorical(test_labels)"
   ]
  },
  {
   "cell_type": "code",
   "execution_count": 5,
   "metadata": {},
   "outputs": [
    {
     "name": "stdout",
     "output_type": "stream",
     "text": [
      "[[0. 1. 1. ... 0. 0. 0.]\n",
      " [0. 1. 1. ... 0. 0. 0.]\n",
      " [0. 1. 1. ... 0. 0. 0.]\n",
      " ...\n",
      " [0. 1. 1. ... 0. 0. 0.]\n",
      " [0. 1. 1. ... 0. 0. 0.]\n",
      " [0. 1. 1. ... 0. 0. 0.]]\n",
      "[[0. 0. 0. ... 0. 0. 0.]\n",
      " [0. 0. 0. ... 0. 0. 0.]\n",
      " [0. 0. 0. ... 0. 0. 0.]\n",
      " ...\n",
      " [0. 0. 0. ... 0. 0. 0.]\n",
      " [0. 0. 0. ... 0. 0. 0.]\n",
      " [0. 0. 0. ... 0. 0. 0.]]\n"
     ]
    }
   ],
   "source": [
    "print(x_train)\n",
    "print(one_hot_train_labels)"
   ]
  },
  {
   "cell_type": "markdown",
   "metadata": {},
   "source": [
    "## 모델 구성"
   ]
  },
  {
   "cell_type": "code",
   "execution_count": 6,
   "metadata": {},
   "outputs": [],
   "source": [
    "from keras import models\n",
    "from keras import layers\n",
    "\n",
    "model = models.Sequential()\n",
    "model.add(layers.Dense(64, activation='relu', input_shape=(10000,)))\n",
    "model.add(layers.Dense(64, activation='relu', input_shape=(10000,)))\n",
    "model.add(layers.Dense(46,activation='softmax'))\n",
    "\n",
    "model.compile(optimizer='rmsprop',\n",
    "             loss='categorical_crossentropy',\n",
    "             metrics=['accuracy'])"
   ]
  },
  {
   "cell_type": "code",
   "execution_count": 7,
   "metadata": {},
   "outputs": [],
   "source": [
    "#훈련 검증\n",
    "x_val = x_train[:1000]\n",
    "partial_x_train = x_train[1000:]\n",
    "\n",
    "y_val = one_hot_train_labels[:1000]\n",
    "partial_y_train = one_hot_train_labels[1000:]"
   ]
  },
  {
   "cell_type": "code",
   "execution_count": 8,
   "metadata": {
    "scrolled": true
   },
   "outputs": [
    {
     "name": "stdout",
     "output_type": "stream",
     "text": [
      "Train on 7982 samples, validate on 1000 samples\n",
      "Epoch 1/20\n",
      "7982/7982 [==============================] - 3s 374us/step - loss: 2.6029 - accuracy: 0.5226 - val_loss: 1.7238 - val_accuracy: 0.6290\n",
      "Epoch 2/20\n",
      "7982/7982 [==============================] - 2s 212us/step - loss: 1.4312 - accuracy: 0.7053 - val_loss: 1.2996 - val_accuracy: 0.7200\n",
      "Epoch 3/20\n",
      "7982/7982 [==============================] - 2s 215us/step - loss: 1.0605 - accuracy: 0.7804 - val_loss: 1.1336 - val_accuracy: 0.7600\n",
      "Epoch 4/20\n",
      "7982/7982 [==============================] - 2s 215us/step - loss: 0.8237 - accuracy: 0.8336 - val_loss: 1.0212 - val_accuracy: 0.7980\n",
      "Epoch 5/20\n",
      "7982/7982 [==============================] - 2s 218us/step - loss: 0.6482 - accuracy: 0.8666 - val_loss: 0.9608 - val_accuracy: 0.8050\n",
      "Epoch 6/20\n",
      "7982/7982 [==============================] - 2s 219us/step - loss: 0.5165 - accuracy: 0.8914 - val_loss: 0.9145 - val_accuracy: 0.8080\n",
      "Epoch 7/20\n",
      "7982/7982 [==============================] - 2s 217us/step - loss: 0.4071 - accuracy: 0.9181 - val_loss: 0.9044 - val_accuracy: 0.8130\n",
      "Epoch 8/20\n",
      "7982/7982 [==============================] - 2s 215us/step - loss: 0.3384 - accuracy: 0.9290 - val_loss: 0.8904 - val_accuracy: 0.8150\n",
      "Epoch 9/20\n",
      "7982/7982 [==============================] - 2s 215us/step - loss: 0.2738 - accuracy: 0.9395 - val_loss: 0.9483 - val_accuracy: 0.7990\n",
      "Epoch 10/20\n",
      "7982/7982 [==============================] - 2s 214us/step - loss: 0.2330 - accuracy: 0.9461 - val_loss: 0.8813 - val_accuracy: 0.8240\n",
      "Epoch 11/20\n",
      "7982/7982 [==============================] - 2s 217us/step - loss: 0.2047 - accuracy: 0.9488 - val_loss: 0.9145 - val_accuracy: 0.8150\n",
      "Epoch 12/20\n",
      "7982/7982 [==============================] - 2s 217us/step - loss: 0.1797 - accuracy: 0.9515 - val_loss: 0.9417 - val_accuracy: 0.8140\n",
      "Epoch 13/20\n",
      "7982/7982 [==============================] - 2s 218us/step - loss: 0.1628 - accuracy: 0.9538 - val_loss: 0.9664 - val_accuracy: 0.8050\n",
      "Epoch 14/20\n",
      "7982/7982 [==============================] - 2s 216us/step - loss: 0.1484 - accuracy: 0.9535 - val_loss: 0.9885 - val_accuracy: 0.8100\n",
      "Epoch 15/20\n",
      "7982/7982 [==============================] - 2s 221us/step - loss: 0.1378 - accuracy: 0.9565 - val_loss: 0.9861 - val_accuracy: 0.8060\n",
      "Epoch 16/20\n",
      "7982/7982 [==============================] - 2s 224us/step - loss: 0.1373 - accuracy: 0.9541 - val_loss: 1.0525 - val_accuracy: 0.8020\n",
      "Epoch 17/20\n",
      "7982/7982 [==============================] - 2s 215us/step - loss: 0.1224 - accuracy: 0.9560 - val_loss: 1.0214 - val_accuracy: 0.8060\n",
      "Epoch 18/20\n",
      "7982/7982 [==============================] - 2s 213us/step - loss: 0.1190 - accuracy: 0.9548 - val_loss: 1.0614 - val_accuracy: 0.8020\n",
      "Epoch 19/20\n",
      "7982/7982 [==============================] - 2s 216us/step - loss: 0.1168 - accuracy: 0.9569 - val_loss: 1.0941 - val_accuracy: 0.8020\n",
      "Epoch 20/20\n",
      "7982/7982 [==============================] - 2s 217us/step - loss: 0.1119 - accuracy: 0.9578 - val_loss: 1.1195 - val_accuracy: 0.7960\n"
     ]
    }
   ],
   "source": [
    "history = model.fit(partial_x_train,\n",
    "                   partial_y_train,\n",
    "                   epochs=20,\n",
    "                   batch_size=512,\n",
    "                   validation_data=(x_val,y_val))"
   ]
  },
  {
   "cell_type": "code",
   "execution_count": 17,
   "metadata": {},
   "outputs": [
    {
     "name": "stdout",
     "output_type": "stream",
     "text": [
      "{'val_loss': [1.723818500518799, 1.2996279439926148, 1.1336031589508058, 1.02124534034729, 0.9607801237106324, 0.9145405058860778, 0.9044360671043395, 0.8904106268882751, 0.9483226051330567, 0.8813473443984985, 0.9144928731918335, 0.9417246146202087, 0.966447723865509, 0.988542028427124, 0.9861238842010498, 1.0525251684188843, 1.0214148683547974, 1.0614385652542113, 1.0940986585617065, 1.1195100803375244], 'val_accuracy': [0.6290000081062317, 0.7200000286102295, 0.7599999904632568, 0.7979999780654907, 0.8050000071525574, 0.8080000281333923, 0.8130000233650208, 0.8149999976158142, 0.7990000247955322, 0.8240000009536743, 0.8149999976158142, 0.8140000104904175, 0.8050000071525574, 0.8100000023841858, 0.8059999942779541, 0.8019999861717224, 0.8059999942779541, 0.8019999861717224, 0.8019999861717224, 0.7960000038146973], 'loss': [2.602889843466168, 1.431220170251411, 1.060508716348358, 0.8236620846442249, 0.6482103870226249, 0.5165193474433142, 0.40710419293962546, 0.33836790701256336, 0.2738021415476511, 0.232999247996558, 0.20470504538512893, 0.17972831118154634, 0.1628078675992923, 0.14836297538742868, 0.13780579056410644, 0.13734397229037767, 0.12244284014464679, 0.1189531901913369, 0.11679097934642611, 0.11190225854908067], 'accuracy': [0.52255076, 0.705337, 0.78038085, 0.8336257, 0.86657476, 0.8913806, 0.91806567, 0.92896515, 0.9394888, 0.9461288, 0.94875973, 0.9515159, 0.953771, 0.9535204, 0.9565272, 0.9541468, 0.9560261, 0.95477325, 0.95690304, 0.95778]}\n"
     ]
    }
   ],
   "source": [
    "print(history.history)"
   ]
  },
  {
   "cell_type": "code",
   "execution_count": 18,
   "metadata": {},
   "outputs": [],
   "source": [
    "import matplotlib.pyplot as plt\n",
    "\n",
    "def drawLossGraph(history_dict):\n",
    "    \n",
    "    loss = history_dict['loss']\n",
    "    val_loss = history_dict['val_loss']\n",
    "    \n",
    "    epochs = range(1, len(loss)+1)\n",
    "    \n",
    "    plt.clf()\n",
    "    plt.plot(epochs, loss, 'bo', label='Training loss')\n",
    "    plt.plot(epochs, val_loss, 'b', label='Validation loss')\n",
    "    plt.xlabel('Epochs')\n",
    "    plt.ylabel('Loss')\n",
    "    plt.legend()\n",
    "    \n",
    "    plt.show()\n",
    "    \n",
    "def drawAccGraph(history_dict):\n",
    "    \n",
    "    acc = history_dict['accuracy']\n",
    "    val_acc = history_dict['val_accuracy']\n",
    "    \n",
    "    epochs = range(1, len(acc)+1)\n",
    "    \n",
    "    plt.clf()\n",
    "    plt.plot(epochs, acc, 'bo', label='Training acc')\n",
    "    plt.plot(epochs, val_acc, 'b', label='Validation acc')\n",
    "    plt.xlabel('Epochs')\n",
    "    plt.ylabel('Accurracy')\n",
    "    plt.legend()\n",
    "    \n",
    "    plt.show()"
   ]
  },
  {
   "cell_type": "code",
   "execution_count": 19,
   "metadata": {},
   "outputs": [
    {
     "data": {
      "image/png": "[encoded data removed]",
      "text/plain": [
       "<Figure size 432x288 with 1 Axes>"
      ]
     },
     "metadata": {
      "needs_background": "light"
     },
     "output_type": "display_data"
    },
    {
     "data": {
      "image/png": "[encoded data removed]",
      "text/plain": [
       "<Figure size 432x288 with 1 Axes>"
      ]
     },
     "metadata": {
      "needs_background": "light"
     },
     "output_type": "display_data"
    }
   ],
   "source": [
    "drawLossGraph(history.history)\n",
    "drawAccGraph(history.history)"
   ]
  },
  {
   "cell_type": "code",
   "execution_count": 23,
   "metadata": {},
   "outputs": [
    {
     "name": "stdout",
     "output_type": "stream",
     "text": [
      "Train on 7982 samples, validate on 1000 samples\n",
      "Epoch 1/9\n",
      "7982/7982 [==============================] - 1s 161us/step - loss: 2.6066 - accuracy: 0.5348 - val_loss: 1.7112 - val_accuracy: 0.6550\n",
      "Epoch 2/9\n",
      "7982/7982 [==============================] - 1s 145us/step - loss: 1.3994 - accuracy: 0.7077 - val_loss: 1.2776 - val_accuracy: 0.7270\n",
      "Epoch 3/9\n",
      "7982/7982 [==============================] - 1s 146us/step - loss: 1.0398 - accuracy: 0.7830 - val_loss: 1.1365 - val_accuracy: 0.7480\n",
      "Epoch 4/9\n",
      "7982/7982 [==============================] - 1s 146us/step - loss: 0.8255 - accuracy: 0.8274 - val_loss: 1.0457 - val_accuracy: 0.7760\n",
      "Epoch 5/9\n",
      "7982/7982 [==============================] - 1s 147us/step - loss: 0.6636 - accuracy: 0.8634 - val_loss: 0.9435 - val_accuracy: 0.8050\n",
      "Epoch 6/9\n",
      "7982/7982 [==============================] - 1s 147us/step - loss: 0.5333 - accuracy: 0.8889 - val_loss: 0.8998 - val_accuracy: 0.8160\n",
      "Epoch 7/9\n",
      "7982/7982 [==============================] - 1s 149us/step - loss: 0.4283 - accuracy: 0.9124 - val_loss: 0.8734 - val_accuracy: 0.8230\n",
      "Epoch 8/9\n",
      "7982/7982 [==============================] - 1s 148us/step - loss: 0.3517 - accuracy: 0.9252 - val_loss: 0.8739 - val_accuracy: 0.8190\n",
      "Epoch 9/9\n",
      "7982/7982 [==============================] - 1s 152us/step - loss: 0.2932 - accuracy: 0.9375 - val_loss: 0.9015 - val_accuracy: 0.8110\n",
      "2246/2246 [==============================] - 1s 254us/step\n",
      "[0.9989378668852184, 0.7871772050857544]\n"
     ]
    }
   ],
   "source": [
    "model = models.Sequential()\n",
    "model.add(layers.Dense(64, activation='relu', input_shape=(10000,)))\n",
    "model.add(layers.Dense(64, activation='relu', input_shape=(10000,)))\n",
    "model.add(layers.Dense(46,activation='softmax'))\n",
    "\n",
    "model.compile(optimizer='rmsprop',\n",
    "             loss='categorical_crossentropy',\n",
    "             metrics=['accuracy'])\n",
    "model.fit(partial_x_train,\n",
    "         partial_y_train,\n",
    "         epochs=9,\n",
    "         batch_size=512,\n",
    "         validation_data=(x_val,y_val))\n",
    "results = model.evaluate(x_test,one_hot_test_labels)\n",
    "print(results)"
   ]
  },
  {
   "cell_type": "code",
   "execution_count": 26,
   "metadata": {},
   "outputs": [
    {
     "name": "stdout",
     "output_type": "stream",
     "text": [
      "[2.69879703e-03 1.05100323e-03 3.95624695e-04 4.30508405e-01\n",
      " 3.60021710e-01 1.63648481e-04 1.10668223e-03 7.33552093e-04\n",
      " 9.57086310e-02 2.03365134e-03 2.40661856e-03 1.03426566e-02\n",
      " 9.53592709e-04 1.96926831e-03 5.86760987e-04 5.48417796e-04\n",
      " 7.29866605e-03 2.73863156e-03 2.31663161e-03 1.69318672e-02\n",
      " 1.96077079e-02 3.49105266e-03 3.33058386e-04 3.44207883e-03\n",
      " 1.06807658e-03 1.45118230e-03 1.50717577e-04 1.01073085e-04\n",
      " 1.97933032e-03 2.62136012e-03 2.96775531e-03 5.15384786e-03\n",
      " 9.92955058e-04 5.30874066e-04 2.18876987e-03 6.02620770e-04\n",
      " 1.75874867e-03 2.74904858e-04 1.23993086e-03 6.30949065e-03\n",
      " 6.33053540e-04 1.04840437e-03 7.61465562e-05 1.30606524e-03\n",
      " 8.43902308e-05 7.15985880e-05]\n",
      "<module 'numpy' from 'C:\\\\Users\\\\opp06\\\\anaconda3\\\\lib\\\\site-packages\\\\numpy\\\\__init__.py'> 1.0000000111176632\n",
      "3\n"
     ]
    }
   ],
   "source": [
    "#예측하기\n",
    "predictions = model.predict(x_test)\n",
    "print(predictions[0]) #예측값은 46개의 라벨에 대한 확률값으로 나타내어 진다.\n",
    "print(np,sum(predictions[0])) #확률값의 합은 1\n",
    "print(np.argmax(predictions[0])) #argmax값이 확률이 제일 높은 라벨값"
   ]
  },
  {
   "cell_type": "code",
   "execution_count": null,
   "metadata": {},
   "outputs": [],
   "source": [
    "#정수 레이블을 사용하고 싶을 때의 모델 학습법\n",
    "model.compile(optimizer='rmsprop',\n",
    "             loss='sparse_categoical_crossentropy', #손실 함수를 변경해준다\n",
    "             metrics=['accuracy'])"
   ]
  }
 ],
 "metadata": {
  "kernelspec": {
   "display_name": "Python 3",
   "language": "python",
   "name": "python3"
  },
  "language_info": {
   "codemirror_mode": {
    "name": "ipython",
    "version": 3
   },
   "file_extension": ".py",
   "mimetype": "text/x-python",
   "name": "python",
   "nbconvert_exporter": "python",
   "pygments_lexer": "ipython3",
   "version": "3.7.6"
  }
 },
 "nbformat": 4,
 "nbformat_minor": 4
}

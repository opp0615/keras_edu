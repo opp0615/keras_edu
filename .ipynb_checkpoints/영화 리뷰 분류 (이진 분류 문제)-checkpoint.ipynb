{
 "cells": [
  {
   "cell_type": "code",
   "execution_count": 1,
   "metadata": {},
   "outputs": [
    {
     "name": "stderr",
     "output_type": "stream",
     "text": [
      "Using TensorFlow backend.\n"
     ]
    }
   ],
   "source": [
    "from keras.datasets import imdb\n",
    "\n",
    "(train_data, train_labels), (test_data, test_labels) = imdb.load_data(num_words=10000)\n",
    "\n",
    "#data의 값은 숫자로 된 배열로써 특정 단어가 숫자로 매핑되어있다,\n",
    "#label의 값은 리뷰의 긍정과 부정을 나타내는 값으로 부정 : 0, 긍정 : 1로 표현된다."
   ]
  },
  {
   "cell_type": "code",
   "execution_count": 2,
   "metadata": {},
   "outputs": [
    {
     "data": {
      "text/plain": [
       "9999"
      ]
     },
     "execution_count": 2,
     "metadata": {},
     "output_type": "execute_result"
    }
   ],
   "source": [
    "max([max(sequence) for sequence in train_data])"
   ]
  },
  {
   "cell_type": "markdown",
   "metadata": {},
   "source": [
    "### 숫자로 매핑 되어 있는 영단어를 원래 영어 단어로 바꾸기"
   ]
  },
  {
   "cell_type": "code",
   "execution_count": 3,
   "metadata": {},
   "outputs": [],
   "source": [
    "word_index = imdb.get_word_index() # word_index는 단어와 정수 인덱스를 매핑한 딕셔너리\n",
    "reverse_word_index = dict(\n",
    "    [(value,key) for (key,value) in word_index.items()]) #단어와 정수 뒤집기\n",
    "decoded_review = ' '.join(\n",
    "    [reverse_word_index.get(i-3, '?') for i in train_data[0]])"
   ]
  },
  {
   "cell_type": "code",
   "execution_count": 4,
   "metadata": {},
   "outputs": [
    {
     "data": {
      "text/plain": [
       "\"? this film was just brilliant casting location scenery story direction everyone's really suited the part they played and you could just imagine being there robert ? is an amazing actor and now the same being director ? father came from the same scottish island as myself so i loved the fact there was a real connection with this film the witty remarks throughout the film were great it was just brilliant so much that i bought the film as soon as it was released for ? and would recommend it to everyone to watch and the fly fishing was amazing really cried at the end it was so sad and you know what they say if you cry at a film it must have been good and this definitely was also ? to the two little boy's that played the ? of norman and paul they were just brilliant children are often left out of the ? list i think because the stars that play them all grown up are such a big profile for the whole film but these children are amazing and should be praised for what they have done don't you think the whole story was so lovely because it was true and was someone's life after all that was shared with us all\""
      ]
     },
     "execution_count": 4,
     "metadata": {},
     "output_type": "execute_result"
    }
   ],
   "source": [
    "decoded_review"
   ]
  },
  {
   "cell_type": "code",
   "execution_count": 5,
   "metadata": {},
   "outputs": [],
   "source": [
    "import numpy as np\n",
    "\n",
    "def vectorize_sequences(sequences, dimension=10000):\n",
    "    results = np.zeros((len(sequences),dimension))\n",
    "    for i, sequence in enumerate(sequences):\n",
    "        results[i,sequence] = 1.\n",
    "    return results"
   ]
  },
  {
   "cell_type": "code",
   "execution_count": 6,
   "metadata": {},
   "outputs": [
    {
     "name": "stdout",
     "output_type": "stream",
     "text": [
      "[[0. 1. 1. ... 0. 0. 0.]\n",
      " [0. 1. 1. ... 0. 0. 0.]\n",
      " [0. 1. 1. ... 0. 0. 0.]\n",
      " ...\n",
      " [0. 1. 1. ... 0. 0. 0.]\n",
      " [0. 1. 1. ... 0. 0. 0.]\n",
      " [0. 1. 1. ... 0. 0. 0.]]\n",
      "[[0. 1. 1. ... 0. 0. 0.]\n",
      " [0. 1. 1. ... 0. 0. 0.]\n",
      " [0. 1. 1. ... 0. 0. 0.]\n",
      " ...\n",
      " [0. 1. 1. ... 0. 0. 0.]\n",
      " [0. 1. 1. ... 0. 0. 0.]\n",
      " [0. 1. 1. ... 0. 0. 0.]]\n"
     ]
    }
   ],
   "source": [
    "x_train = vectorize_sequences(train_data)\n",
    "x_test = vectorize_sequences(test_data)\n",
    "print(x_train)\n",
    "print(x_test)"
   ]
  },
  {
   "cell_type": "code",
   "execution_count": 7,
   "metadata": {},
   "outputs": [
    {
     "name": "stdout",
     "output_type": "stream",
     "text": [
      "[1. 0. 0. ... 0. 1. 0.]\n",
      "[0. 1. 1. ... 0. 0. 0.]\n"
     ]
    }
   ],
   "source": [
    "y_train = np.array(train_labels,np.float32)\n",
    "y_test = np.array(test_labels,np.float32)\n",
    "print(y_train)\n",
    "print(y_test)"
   ]
  },
  {
   "cell_type": "markdown",
   "metadata": {},
   "source": [
    "## 신경망 구현"
   ]
  },
  {
   "cell_type": "code",
   "execution_count": 32,
   "metadata": {},
   "outputs": [],
   "source": [
    "from keras import models\n",
    "from keras import layers\n",
    "\n",
    "model = models.Sequential()\n",
    "model.add(layers.Dense(16, activation='relu', input_shape=(10000,)))\n",
    "model.add(layers.Dense(16, activation='relu'))\n",
    "model.add(layers.Dense(1, activation='sigmoid')) \n",
    "#출력 값은 step function과 비슷한 relu를 쓰면 안되고 쭉 연결되어있는 sigmoid로 나와야 한다. 편중된 확률을 막기 위해"
   ]
  },
  {
   "cell_type": "code",
   "execution_count": 33,
   "metadata": {},
   "outputs": [],
   "source": [
    "#검증 데이터 만들기\n",
    "x_val = x_train[:10000]\n",
    "partial_x_train = x_train[10000:]\n",
    "y_val = y_train[:10000]\n",
    "partial_y_train = y_train[10000:]"
   ]
  },
  {
   "cell_type": "code",
   "execution_count": 34,
   "metadata": {
    "scrolled": true
   },
   "outputs": [
    {
     "name": "stdout",
     "output_type": "stream",
     "text": [
      "Train on 15000 samples, validate on 10000 samples\n",
      "Epoch 1/20\n",
      "15000/15000 [==============================] - 5s 310us/step - loss: 0.5010 - accuracy: 0.7899 - val_loss: 0.3766 - val_accuracy: 0.8714\n",
      "Epoch 2/20\n",
      "15000/15000 [==============================] - 4s 291us/step - loss: 0.2956 - accuracy: 0.9062 - val_loss: 0.2982 - val_accuracy: 0.8892\n",
      "Epoch 3/20\n",
      "15000/15000 [==============================] - 4s 289us/step - loss: 0.2167 - accuracy: 0.9303 - val_loss: 0.2873 - val_accuracy: 0.8873\n",
      "Epoch 4/20\n",
      "15000/15000 [==============================] - 4s 287us/step - loss: 0.1754 - accuracy: 0.9421 - val_loss: 0.2975 - val_accuracy: 0.8818\n",
      "Epoch 5/20\n",
      "15000/15000 [==============================] - 4s 288us/step - loss: 0.1421 - accuracy: 0.9549 - val_loss: 0.2915 - val_accuracy: 0.8863\n",
      "Epoch 6/20\n",
      "15000/15000 [==============================] - 4s 289us/step - loss: 0.1176 - accuracy: 0.9639 - val_loss: 0.2945 - val_accuracy: 0.8853\n",
      "Epoch 7/20\n",
      "15000/15000 [==============================] - 4s 289us/step - loss: 0.0997 - accuracy: 0.9709 - val_loss: 0.3231 - val_accuracy: 0.8784\n",
      "Epoch 8/20\n",
      "15000/15000 [==============================] - 4s 289us/step - loss: 0.0802 - accuracy: 0.9771 - val_loss: 0.3437 - val_accuracy: 0.8785\n",
      "Epoch 9/20\n",
      "15000/15000 [==============================] - 4s 290us/step - loss: 0.0704 - accuracy: 0.9809 - val_loss: 0.3519 - val_accuracy: 0.8813\n",
      "Epoch 10/20\n",
      "15000/15000 [==============================] - 4s 288us/step - loss: 0.0550 - accuracy: 0.9875 - val_loss: 0.3755 - val_accuracy: 0.8796\n",
      "Epoch 11/20\n",
      "15000/15000 [==============================] - 4s 285us/step - loss: 0.0474 - accuracy: 0.9883 - val_loss: 0.4267 - val_accuracy: 0.8744\n",
      "Epoch 12/20\n",
      "15000/15000 [==============================] - 4s 288us/step - loss: 0.0381 - accuracy: 0.9917 - val_loss: 0.4357 - val_accuracy: 0.8749\n",
      "Epoch 13/20\n",
      "15000/15000 [==============================] - 4s 288us/step - loss: 0.0334 - accuracy: 0.9920 - val_loss: 0.4649 - val_accuracy: 0.8715\n",
      "Epoch 14/20\n",
      "15000/15000 [==============================] - 4s 289us/step - loss: 0.0249 - accuracy: 0.9955 - val_loss: 0.5652 - val_accuracy: 0.8614\n",
      "Epoch 15/20\n",
      "15000/15000 [==============================] - 4s 285us/step - loss: 0.0187 - accuracy: 0.9977 - val_loss: 0.5263 - val_accuracy: 0.8706\n",
      "Epoch 16/20\n",
      "15000/15000 [==============================] - 4s 288us/step - loss: 0.0163 - accuracy: 0.9979 - val_loss: 0.5589 - val_accuracy: 0.8657\n",
      "Epoch 17/20\n",
      "15000/15000 [==============================] - 4s 287us/step - loss: 0.0135 - accuracy: 0.9985 - val_loss: 0.5886 - val_accuracy: 0.8679\n",
      "Epoch 18/20\n",
      "15000/15000 [==============================] - 4s 288us/step - loss: 0.0112 - accuracy: 0.9985 - val_loss: 0.6281 - val_accuracy: 0.8645\n",
      "Epoch 19/20\n",
      "15000/15000 [==============================] - 4s 289us/step - loss: 0.0113 - accuracy: 0.9983 - val_loss: 0.6599 - val_accuracy: 0.8668\n",
      "Epoch 20/20\n",
      "15000/15000 [==============================] - 4s 289us/step - loss: 0.0050 - accuracy: 0.9999 - val_loss: 0.6979 - val_accuracy: 0.8646\n"
     ]
    },
    {
     "data": {
      "text/plain": [
       "'\\nfrom keras import optimizers\\nfrom keras import losses\\nfrom keras import metrics\\n\\nmodel.complie(optimizer=optimizers.RMSprop(lr=0.001),\\n             loss=losses.binary_crossentropy,\\n             metrics=[metrics.binary_accuracy])\\n'"
      ]
     },
     "execution_count": 34,
     "metadata": {},
     "output_type": "execute_result"
    }
   ],
   "source": [
    "model.compile(optimizer='rmsprop',\n",
    "             loss='binary_crossentropy',\n",
    "             metrics=['accuracy'])\n",
    "\n",
    "history = model.fit(partial_x_train,\n",
    "                   partial_y_train,\n",
    "                   epochs=20,\n",
    "                   batch_size=512,\n",
    "                   validation_data =(x_val,y_val))\n",
    "\n",
    "\n",
    "#자신이 원하는 옵티마이저, 손실함수, 측정 지표를 객체 형태로 전달 할 수 있다.\n",
    "'''\n",
    "from keras import optimizers\n",
    "from keras import losses\n",
    "from keras import metrics\n",
    "\n",
    "model.complie(optimizer=optimizers.RMSprop(lr=0.001),\n",
    "             loss=losses.binary_crossentropy,\n",
    "             metrics=[metrics.binary_accuracy])\n",
    "'''\n"
   ]
  },
  {
   "cell_type": "markdown",
   "metadata": {},
   "source": [
    "## 측정 그래프 그리기"
   ]
  },
  {
   "cell_type": "code",
   "execution_count": 35,
   "metadata": {},
   "outputs": [
    {
     "name": "stdout",
     "output_type": "stream",
     "text": [
      "val_loss\n",
      "val_accuracy\n",
      "loss\n",
      "accuracy\n"
     ]
    }
   ],
   "source": [
    "import matplotlib.pyplot as plt\n",
    "\n",
    "history_dict = history.history\n",
    "\n",
    "for key in history_dict.keys(): #history 값 안에 뭐가 들었는지\n",
    "    print(key)"
   ]
  },
  {
   "cell_type": "code",
   "execution_count": 36,
   "metadata": {},
   "outputs": [
    {
     "data": {
      "image/png": "[encoded data removed]",
      "text/plain": [
       "<Figure size 432x288 with 1 Axes>"
      ]
     },
     "metadata": {
      "needs_background": "light"
     },
     "output_type": "display_data"
    }
   ],
   "source": [
    "loss = history_dict['loss']\n",
    "val_loss = history_dict['val_loss']\n",
    "\n",
    "epochs = range(1, len(loss) + 1)\n",
    "\n",
    "plt.plot(epochs, loss, 'bo', label='Train Loss') #train loss 값의 경우 파란색 점으로 표시\n",
    "plt.plot(epochs, val_loss, 'b', label='Validation Loss') #valitaion loss의 경우 파란색 라인으로 표시\n",
    "plt.title('Training and Validation Loss')\n",
    "plt.xlabel('Epochs')\n",
    "plt.ylabel('Loss')\n",
    "plt.legend()\n",
    "\n",
    "plt.show()\n"
   ]
  },
  {
   "cell_type": "code",
   "execution_count": 37,
   "metadata": {},
   "outputs": [
    {
     "data": {
      "image/png": "[encoded data removed]",
      "text/plain": [
       "<Figure size 432x288 with 1 Axes>"
      ]
     },
     "metadata": {
      "needs_background": "light"
     },
     "output_type": "display_data"
    }
   ],
   "source": [
    "plt.clf()\n",
    "acc = history_dict['accuracy']\n",
    "val_acc = history_dict['val_accuracy']\n",
    "\n",
    "plt.plot(epochs, acc, 'bo', label='Train Acc') #train accuracy 값의 경우 파란색 점으로 표시\n",
    "plt.plot(epochs, val_acc, 'b', label='Validation Acc') #valitaion accuracy의 경우 파란색 라인으로 표시\n",
    "plt.title('Training and Validation Accuracy')\n",
    "plt.xlabel('Epochs')\n",
    "plt.ylabel('Accuracy')\n",
    "plt.legend()\n",
    "\n",
    "plt.show()"
   ]
  },
  {
   "cell_type": "markdown",
   "metadata": {},
   "source": [
    "Epoch Step 4부터 과적합(Over Fitting) 현상이 나타나는 것을 볼 수 있다. 따라서 epoch=4를 넘어가는 것은 모델의 큰 의미가 없다"
   ]
  },
  {
   "cell_type": "code",
   "execution_count": 40,
   "metadata": {},
   "outputs": [
    {
     "name": "stdout",
     "output_type": "stream",
     "text": [
      "Epoch 1/4\n",
      "25000/25000 [==============================] - 5s 186us/step - loss: 0.4492 - accuracy: 0.8187\n",
      "Epoch 2/4\n",
      "25000/25000 [==============================] - 4s 178us/step - loss: 0.2591 - accuracy: 0.9111\n",
      "Epoch 3/4\n",
      "25000/25000 [==============================] - 4s 178us/step - loss: 0.1979 - accuracy: 0.9306\n",
      "Epoch 4/4\n",
      "25000/25000 [==============================] - 4s 179us/step - loss: 0.1675 - accuracy: 0.9412\n",
      "25000/25000 [==============================] - 8s 305us/step\n",
      "[0.3037795975732803, 0.879360020160675]\n"
     ]
    }
   ],
   "source": [
    "model = models.Sequential()\n",
    "model.add(layers.Dense(16, activation='relu', input_shape=(10000,)))\n",
    "model.add(layers.Dense(16, activation='relu'))\n",
    "model.add(layers.Dense(1, activation='sigmoid')) \n",
    "\n",
    "model.compile(optimizer='rmsprop',\n",
    "             loss='binary_crossentropy',\n",
    "             metrics=['accuracy'])\n",
    "\n",
    "model.fit(x_train, y_train, epochs=4, batch_size=512)\n",
    "results = model.evaluate(x_test,y_test)\n",
    "\n",
    "print(results)"
   ]
  },
  {
   "cell_type": "code",
   "execution_count": 41,
   "metadata": {},
   "outputs": [
    {
     "data": {
      "text/plain": [
       "array([[0.17075323],\n",
       "       [0.9999671 ],\n",
       "       [0.6762288 ],\n",
       "       ...,\n",
       "       [0.10104429],\n",
       "       [0.05827579],\n",
       "       [0.42044806]], dtype=float32)"
      ]
     },
     "execution_count": 41,
     "metadata": {},
     "output_type": "execute_result"
    }
   ],
   "source": [
    "model.predict(x_test) #어떤 리뷰가 긍정적일 확률이 높인지 확인할 수 있다."
   ]
  },
  {
   "cell_type": "markdown",
   "metadata": {},
   "source": [
    "# 추가 실험"
   ]
  },
  {
   "cell_type": "code",
   "execution_count": 51,
   "metadata": {},
   "outputs": [],
   "source": [
    "#검증 데이터 만들기\n",
    "x_val = x_train[:10000]\n",
    "partial_x_train = x_train[10000:]\n",
    "y_val = y_train[:10000]\n",
    "partial_y_train = y_train[10000:]"
   ]
  },
  {
   "cell_type": "code",
   "execution_count": null,
   "metadata": {},
   "outputs": [],
   "source": [
    "def drawLossGraph(loss,val_loss):\n",
    "    "
   ]
  },
  {
   "cell_type": "markdown",
   "metadata": {},
   "source": [
    "## 3개의 은닉층 사용해보기"
   ]
  },
  {
   "cell_type": "code",
   "execution_count": 42,
   "metadata": {},
   "outputs": [
    {
     "name": "stdout",
     "output_type": "stream",
     "text": [
      "Epoch 1/4\n",
      "25000/25000 [==============================] - 5s 196us/step - loss: 0.4762 - accuracy: 0.8027\n",
      "Epoch 2/4\n",
      "25000/25000 [==============================] - 5s 181us/step - loss: 0.2552 - accuracy: 0.9114\n",
      "Epoch 3/4\n",
      "25000/25000 [==============================] - 5s 181us/step - loss: 0.1952 - accuracy: 0.9308\n",
      "Epoch 4/4\n",
      "25000/25000 [==============================] - 5s 181us/step - loss: 0.1615 - accuracy: 0.9430\n",
      "25000/25000 [==============================] - 8s 317us/step\n",
      "[0.31416682125091555, 0.8807200193405151]\n"
     ]
    }
   ],
   "source": [
    "model = models.Sequential()\n",
    "model.add(layers.Dense(16, activation='relu', input_shape=(10000,)))\n",
    "model.add(layers.Dense(16, activation='relu'))\n",
    "model.add(layers.Dense(16, activation='relu'))\n",
    "model.add(layers.Dense(1, activation='sigmoid')) \n",
    "\n",
    "model.compile(optimizer='rmsprop',\n",
    "             loss='binary_crossentropy',\n",
    "             metrics=['accuracy'])\n",
    "\n",
    "model.fit(x_train, y_train, epochs=4, batch_size=512)\n",
    "results = model.evaluate(x_test,y_test)\n",
    "\n",
    "print(results)"
   ]
  },
  {
   "cell_type": "markdown",
   "metadata": {},
   "source": [
    "## 유닛 32 사용"
   ]
  },
  {
   "cell_type": "code",
   "execution_count": 44,
   "metadata": {},
   "outputs": [
    {
     "name": "stdout",
     "output_type": "stream",
     "text": [
      "Epoch 1/4\n",
      "25000/25000 [==============================] - 5s 187us/step - loss: 0.4321 - accuracy: 0.8219\n",
      "Epoch 2/4\n",
      "25000/25000 [==============================] - 4s 180us/step - loss: 0.2427 - accuracy: 0.9088\n",
      "Epoch 3/4\n",
      "25000/25000 [==============================] - 4s 179us/step - loss: 0.1888 - accuracy: 0.9313\n",
      "Epoch 4/4\n",
      "25000/25000 [==============================] - 4s 179us/step - loss: 0.1590 - accuracy: 0.9408\n",
      "25000/25000 [==============================] - 8s 308us/step\n",
      "[0.3194970583677292, 0.8748400211334229]\n"
     ]
    }
   ],
   "source": [
    "model = models.Sequential()\n",
    "model.add(layers.Dense(32, activation='relu', input_shape=(10000,)))\n",
    "model.add(layers.Dense(32, activation='relu'))\n",
    "model.add(layers.Dense(1, activation='sigmoid')) \n",
    "\n",
    "model.compile(optimizer='rmsprop',\n",
    "             loss='binary_crossentropy',\n",
    "             metrics=['accuracy'])\n",
    "\n",
    "model.fit(x_train, y_train, epochs=4, batch_size=512)\n",
    "results = model.evaluate(x_test,y_test)\n",
    "\n",
    "print(results)"
   ]
  },
  {
   "cell_type": "markdown",
   "metadata": {},
   "source": [
    "## 유닛 64사용"
   ]
  },
  {
   "cell_type": "code",
   "execution_count": 46,
   "metadata": {},
   "outputs": [
    {
     "name": "stdout",
     "output_type": "stream",
     "text": [
      "Epoch 1/4\n",
      "25000/25000 [==============================] - 5s 193us/step - loss: 0.4215 - accuracy: 0.8145\n",
      "Epoch 2/4\n",
      "25000/25000 [==============================] - 5s 184us/step - loss: 0.2351 - accuracy: 0.9096\n",
      "Epoch 3/4\n",
      "25000/25000 [==============================] - 5s 183us/step - loss: 0.1816 - accuracy: 0.9315\n",
      "Epoch 4/4\n",
      "25000/25000 [==============================] - 5s 182us/step - loss: 0.1456 - accuracy: 0.9462\n",
      "25000/25000 [==============================] - 8s 305us/step\n",
      "[0.3636291533327103, 0.8651999831199646]\n"
     ]
    }
   ],
   "source": [
    "model = models.Sequential()\n",
    "model.add(layers.Dense(64, activation='relu', input_shape=(10000,)))\n",
    "model.add(layers.Dense(64, activation='relu'))\n",
    "model.add(layers.Dense(1, activation='sigmoid')) \n",
    "\n",
    "model.compile(optimizer='rmsprop',\n",
    "             loss='binary_crossentropy',\n",
    "             metrics=['accuracy'])\n",
    "\n",
    "model.fit(x_train, y_train, epochs=4, batch_size=512)\n",
    "results = model.evaluate(x_test,y_test)\n",
    "\n",
    "print(results)"
   ]
  },
  {
   "cell_type": "markdown",
   "metadata": {},
   "source": [
    "## 은닉층 3개에 32 유닛"
   ]
  },
  {
   "cell_type": "code",
   "execution_count": 47,
   "metadata": {},
   "outputs": [
    {
     "name": "stdout",
     "output_type": "stream",
     "text": [
      "Epoch 1/4\n",
      "25000/25000 [==============================] - 5s 192us/step - loss: 0.4535 - accuracy: 0.8082\n",
      "Epoch 2/4\n",
      "25000/25000 [==============================] - 5s 182us/step - loss: 0.2554 - accuracy: 0.9068\n",
      "Epoch 3/4\n",
      "25000/25000 [==============================] - 5s 183us/step - loss: 0.1955 - accuracy: 0.9276\n",
      "Epoch 4/4\n",
      "25000/25000 [==============================] - 5s 183us/step - loss: 0.1616 - accuracy: 0.9409\n",
      "25000/25000 [==============================] - 8s 311us/step\n",
      "[0.3196428287887573, 0.8773599863052368]\n"
     ]
    }
   ],
   "source": [
    "model = models.Sequential()\n",
    "model.add(layers.Dense(32, activation='relu', input_shape=(10000,)))\n",
    "model.add(layers.Dense(32, activation='relu'))\n",
    "model.add(layers.Dense(32, activation='relu'))\n",
    "model.add(layers.Dense(1, activation='sigmoid')) \n",
    "\n",
    "model.compile(optimizer='rmsprop',\n",
    "             loss='binary_crossentropy',\n",
    "             metrics=['accuracy'])\n",
    "\n",
    "model.fit(x_train, y_train, epochs=4, batch_size=512)\n",
    "results = model.evaluate(x_test,y_test)\n",
    "\n",
    "print(results)"
   ]
  },
  {
   "cell_type": "markdown",
   "metadata": {},
   "source": [
    "## 은닉층 3개에 64유닛"
   ]
  },
  {
   "cell_type": "code",
   "execution_count": 48,
   "metadata": {},
   "outputs": [
    {
     "name": "stdout",
     "output_type": "stream",
     "text": [
      "Epoch 1/4\n",
      "25000/25000 [==============================] - 5s 191us/step - loss: 0.4374 - accuracy: 0.7988\n",
      "Epoch 2/4\n",
      "25000/25000 [==============================] - 5s 183us/step - loss: 0.2422 - accuracy: 0.9073\n",
      "Epoch 3/4\n",
      "25000/25000 [==============================] - 5s 184us/step - loss: 0.1839 - accuracy: 0.9312\n",
      "Epoch 4/4\n",
      "25000/25000 [==============================] - 5s 184us/step - loss: 0.1399 - accuracy: 0.9471\n",
      "25000/25000 [==============================] - 8s 317us/step\n",
      "[0.3480023099637032, 0.8740800023078918]\n"
     ]
    }
   ],
   "source": [
    "model = models.Sequential()\n",
    "model.add(layers.Dense(64, activation='relu', input_shape=(10000,)))\n",
    "model.add(layers.Dense(64, activation='relu'))\n",
    "model.add(layers.Dense(64, activation='relu'))\n",
    "model.add(layers.Dense(1, activation='sigmoid')) \n",
    "\n",
    "model.compile(optimizer='rmsprop',\n",
    "             loss='binary_crossentropy',\n",
    "             metrics=['accuracy'])\n",
    "\n",
    "model.fit(x_train, y_train, epochs=4, batch_size=512)\n",
    "results = model.evaluate(x_test,y_test)\n",
    "\n",
    "print(results)"
   ]
  },
  {
   "cell_type": "markdown",
   "metadata": {},
   "source": [
    "## 손실함수 mse 사용"
   ]
  },
  {
   "cell_type": "code",
   "execution_count": 49,
   "metadata": {},
   "outputs": [
    {
     "name": "stdout",
     "output_type": "stream",
     "text": [
      "Epoch 1/4\n",
      "25000/25000 [==============================] - 5s 189us/step - loss: 0.1513 - accuracy: 0.8240\n",
      "Epoch 2/4\n",
      "25000/25000 [==============================] - 5s 182us/step - loss: 0.0799 - accuracy: 0.9101\n",
      "Epoch 3/4\n",
      "25000/25000 [==============================] - 5s 181us/step - loss: 0.0595 - accuracy: 0.9300\n",
      "Epoch 4/4\n",
      "25000/25000 [==============================] - 5s 181us/step - loss: 0.0493 - accuracy: 0.9418\n",
      "25000/25000 [==============================] - 8s 310us/step\n",
      "[0.08959815968394279, 0.8781200051307678]\n"
     ]
    }
   ],
   "source": [
    "model = models.Sequential()\n",
    "model.add(layers.Dense(16, activation='relu', input_shape=(10000,)))\n",
    "model.add(layers.Dense(16, activation='relu'))\n",
    "model.add(layers.Dense(1, activation='sigmoid')) \n",
    "\n",
    "model.compile(optimizer='rmsprop',\n",
    "             loss='mse',\n",
    "             metrics=['accuracy'])\n",
    "\n",
    "model.fit(x_train, y_train, epochs=4, batch_size=512)\n",
    "results = model.evaluate(x_test,y_test)\n",
    "\n",
    "print(results)"
   ]
  },
  {
   "cell_type": "markdown",
   "metadata": {},
   "source": [
    "## 활성함수 tanh 사용"
   ]
  },
  {
   "cell_type": "code",
   "execution_count": 50,
   "metadata": {},
   "outputs": [
    {
     "name": "stdout",
     "output_type": "stream",
     "text": [
      "Epoch 1/4\n",
      "25000/25000 [==============================] - 5s 189us/step - loss: 0.1340 - accuracy: 0.8300\n",
      "Epoch 2/4\n",
      "25000/25000 [==============================] - 4s 165us/step - loss: 0.0685 - accuracy: 0.9128\n",
      "Epoch 3/4\n",
      "25000/25000 [==============================] - 5s 181us/step - loss: 0.0507 - accuracy: 0.9366\n",
      "Epoch 4/4\n",
      "25000/25000 [==============================] - 5s 183us/step - loss: 0.0416 - accuracy: 0.9498\n",
      "25000/25000 [==============================] - 9s 343us/step\n",
      "[0.09285728975147009, 0.8770400285720825]\n"
     ]
    }
   ],
   "source": [
    "model = models.Sequential()\n",
    "model.add(layers.Dense(16, activation='tanh', input_shape=(10000,)))\n",
    "model.add(layers.Dense(16, activation='tanh'))\n",
    "model.add(layers.Dense(1, activation='sigmoid')) \n",
    "\n",
    "model.compile(optimizer='rmsprop',\n",
    "             loss='mse',\n",
    "             metrics=['accuracy'])\n",
    "\n",
    "model.fit(x_train, y_train, epochs=4, batch_size=512)\n",
    "results = model.evaluate(x_test,y_test)\n",
    "\n",
    "print(results)"
   ]
  },
  {
   "cell_type": "code",
   "execution_count": null,
   "metadata": {},
   "outputs": [],
   "source": []
  }
 ],
 "metadata": {
  "kernelspec": {
   "display_name": "Python 3",
   "language": "python",
   "name": "python3"
  }
 },
 "nbformat": 4,
 "nbformat_minor": 4
}

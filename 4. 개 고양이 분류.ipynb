{
 "cells": [
  {
   "cell_type": "code",
   "execution_count": null,
   "metadata": {},
   "outputs": [],
   "source": [
    "from keras import layers\n",
    "from keras import models\n",
    "\n",
    "model = models.Sequential()\n",
    "model.add(layers.Conv2D(32, (3,3), activation='relu', input_shape=(150,150,3)))\n",
    "model.add(layers.MaxPooling2D((2,2)))\n",
    "model.add(layers.Conv2D(64, (3,3), activation='relu'))\n",
    "model.add(layers.MaxPooling2D((2,2)))\n",
    "model.add(layers.Conv2D(128, (3,3), activation='relu'))\n",
    "model.add(layers.MaxPooling2D((2,2)))\n",
    "model.add(layers.Conv2D(128, (3,3), activation='relu'))\n",
    "model.add(layers.MaxPooling2D((2,2)))\n",
    "model.add(layers.Flatten())\n",
    "model.add(layers.Dense(512, activation='relu'))\n",
    "model.add(layers.Dense(1, activation='sigmoid'))\n",
    "\n",
    "print(model.summary())"
   ]
  },
  {
   "cell_type": "code",
   "execution_count": null,
   "metadata": {},
   "outputs": [],
   "source": [
    "from keras import optimizers\n",
    "\n",
    "model.compile(loss='binary_crossentropy', optimizer=optimizers.RMSprop(lr=1e-4), metrics=['acc'])"
   ]
  },
  {
   "cell_type": "code",
   "execution_count": null,
   "metadata": {},
   "outputs": [],
   "source": [
    "import s3fs\n",
    "from PIL import Image\n",
    "import numpy as np\n",
    "from keras.preprocessing.image import ImageDataGenerator\n",
    "\n",
    "train_dir = \"s3://sagemaker-dogs-vs-cats/train/\"\n",
    "validation_dir = \"s3://sagemaker-dogs-vs-cats/validation/\"\n",
    "test_dir = \"s3://sagemaker-dogs-vs-cats/test/\"\n",
    "bucket_name = \"sagemaker-dogs-vs-cats\"\n",
    "\n",
    "\n",
    "fs = s3fs.S3FileSystem()\n"
   ]
  },
  {
   "cell_type": "code",
   "execution_count": null,
   "metadata": {},
   "outputs": [],
   "source": [
    "# To List 5 files in your accessible bucket\n",
    "train_list = fs.listdir(train_dir)\n",
    "\n",
    "x_train = None\n",
    "y_train = None\n",
    "count = 0 \n",
    "for train in train_list:\n",
    "    if(train['size'] == 0):\n",
    "        continue    \n",
    "        \n",
    "    file_name = train['name'] \n",
    "    \n",
    "    with fs.open(f's3://'+file_name) as f:\n",
    "        img = Image.open(f)\n",
    "        resize_img = img.resize((150, 150))\n",
    "        x = np.asarray(resize_img) # (150, 150, 3) 크기의 넘파이 배열\n",
    "        x = x.reshape((1,) + x.shape) # (1, 150, 150, 3) 크기로 변환\n",
    "        x = x.astype('float32')\n",
    "        x /= 255.0\n",
    "        \n",
    "        y = 0\n",
    "        if('cat' in file_name):\n",
    "            y = 0\n",
    "        elif('dog' in file_name):\n",
    "            y = 1\n",
    "        else:\n",
    "            y = -1\n",
    "        \n",
    "        if(count == 0):\n",
    "            x_train = x\n",
    "            y_train = np.array([y])\n",
    "        else:\n",
    "            x_train = np.vstack((x_train,x))\n",
    "            y = np.array([y])\n",
    "            y_train = np.hstack((y_train,y))\n",
    "        \n",
    "        \n",
    "    count += 1\n",
    "        \n",
    "#print(x_train)\n",
    "print(y_train)\n"
   ]
  },
  {
   "cell_type": "code",
   "execution_count": null,
   "metadata": {},
   "outputs": [],
   "source": [
    "x_train.shape"
   ]
  },
  {
   "cell_type": "code",
   "execution_count": null,
   "metadata": {},
   "outputs": [],
   "source": [
    "y_train.shape"
   ]
  },
  {
   "cell_type": "code",
   "execution_count": null,
   "metadata": {},
   "outputs": [],
   "source": [
    "# To List 5 files in your accessible bucket\n",
    "test_list = fs.listdir(validation_dir)\n",
    "\n",
    "\n",
    "x_test = None\n",
    "y_test = None\n",
    "count = 0 \n",
    "for test in test_list:\n",
    "    if(test['size'] == 0):\n",
    "        continue\n",
    "        \n",
    "    file_name = test['name']     \n",
    "    \n",
    "    with fs.open(f's3://'+test['name']) as f:\n",
    "        img = Image.open(f)\n",
    "        resize_img = img.resize((150, 150))\n",
    "        x = np.asarray(resize_img) # (150, 150, 3) 크기의 넘파이 배열\n",
    "        x = x.reshape((1,) + x.shape) # (1, 150, 150, 3) 크기로 변환\n",
    "        x = x.astype('float32')\n",
    "        x /= 255.0\n",
    "        \n",
    "        y = 0\n",
    "        if('cat' in file_name):\n",
    "            y = 0\n",
    "        elif('dog' in file_name):\n",
    "            y = 1\n",
    "        else:\n",
    "            y = -1\n",
    "        \n",
    "        if(count == 0):\n",
    "            x_test = x\n",
    "            y_test = np.array([y])\n",
    "        else:\n",
    "            x_test = np.vstack((x_test,x))\n",
    "            y = np.array([y])\n",
    "            y_test = np.hstack((y_test,y))\n",
    "        \n",
    "    count += 1\n",
    "        \n",
    "print(test_datagen)"
   ]
  },
  {
   "cell_type": "code",
   "execution_count": null,
   "metadata": {},
   "outputs": [],
   "source": [
    "train_datagen = ImageDataGenerator()\n",
    "test_datagen = ImageDataGenerator()\n",
    "\n",
    "history = model.fit_generator(\n",
    "    train_datagen.flow(x_train,y_train,batch_size=20),\n",
    "    steps_per_epoch=100,\n",
    "    epochs=30,\n",
    "    validation_data = test_datagen.flow(x_test,y_test,batch_size=20),\n",
    "    validation_steps=50\n",
    ")\n",
    "\n"
   ]
  },
  {
   "cell_type": "code",
   "execution_count": null,
   "metadata": {},
   "outputs": [],
   "source": []
  }
 ],
 "metadata": {
  "kernelspec": {
   "display_name": "Python 3",
   "language": "python",
   "name": "python3"
  },
  "language_info": {
   "codemirror_mode": {
    "name": "ipython",
    "version": 3
   },
   "file_extension": ".py",
   "mimetype": "text/x-python",
   "name": "python",
   "nbconvert_exporter": "python",
   "pygments_lexer": "ipython3",
   "version": "3.7.1"
  }
 },
 "nbformat": 4,
 "nbformat_minor": 4
}
